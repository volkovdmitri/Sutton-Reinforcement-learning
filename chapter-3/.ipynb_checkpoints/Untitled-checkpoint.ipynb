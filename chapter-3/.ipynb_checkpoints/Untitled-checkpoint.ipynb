{
 "cells": [
  {
   "cell_type": "code",
   "execution_count": 3,
   "metadata": {},
   "outputs": [],
   "source": [
    "import numpy as np"
   ]
  },
  {
   "cell_type": "code",
   "execution_count": 67,
   "metadata": {},
   "outputs": [],
   "source": [
    "size = 5\n",
    "x = np.zeros((size, size))\n",
    "rewards = np.zeros((size+2, size+2))\n",
    "rewards[0, :] = rewards[size+1, :] = rewards[:, 0] = rewards[:, size+1] = -1 \n",
    "rewards[1, 2] = 10\n",
    "rewards[1, 4] = 5"
   ]
  },
  {
   "cell_type": "code",
   "execution_count": 70,
   "metadata": {},
   "outputs": [
    {
     "data": {
      "text/plain": [
       "array([[-1., -1., -1., -1., -1., -1., -1.],\n",
       "       [-1.,  0., 10.,  0.,  5.,  0., -1.],\n",
       "       [-1.,  0.,  0.,  0.,  0.,  0., -1.],\n",
       "       [-1.,  0.,  0.,  0.,  0.,  0., -1.],\n",
       "       [-1.,  0.,  0.,  0.,  0.,  0., -1.],\n",
       "       [-1.,  0.,  0.,  0.,  0.,  0., -1.],\n",
       "       [-1., -1., -1., -1., -1., -1., -1.]])"
      ]
     },
     "execution_count": 70,
     "metadata": {},
     "output_type": "execute_result"
    }
   ],
   "source": [
    "rewards"
   ]
  },
  {
   "cell_type": "code",
   "execution_count": 74,
   "metadata": {},
   "outputs": [],
   "source": [
    "avg_rewards = np.zeros((size, size))\n",
    "for i in range(0, size):\n",
    "    for j in range(0, size):\n",
    "        avg_rewards[i, j] = (rewards[i, j+1]+rewards[i+2, j+1]+rewards[i+1, j]+rewards[i+1, j+2])/4\n"
   ]
  },
  {
   "cell_type": "code",
   "execution_count": 75,
   "metadata": {},
   "outputs": [
    {
     "data": {
      "text/plain": [
       "array([[ 2.  , -0.25,  3.5 , -0.25,  0.75],\n",
       "       [-0.25,  2.5 ,  0.  ,  1.25, -0.25],\n",
       "       [-0.25,  0.  ,  0.  ,  0.  , -0.25],\n",
       "       [-0.25,  0.  ,  0.  ,  0.  , -0.25],\n",
       "       [-0.5 , -0.25, -0.25, -0.25, -0.5 ]])"
      ]
     },
     "execution_count": 75,
     "metadata": {},
     "output_type": "execute_result"
    }
   ],
   "source": [
    "avg_rewards"
   ]
  },
  {
   "cell_type": "code",
   "execution_count": null,
   "metadata": {},
   "outputs": [],
   "source": []
  }
 ],
 "metadata": {
  "kernelspec": {
   "display_name": "Python 3",
   "language": "python",
   "name": "python3"
  },
  "language_info": {
   "codemirror_mode": {
    "name": "ipython",
    "version": 3
   },
   "file_extension": ".py",
   "mimetype": "text/x-python",
   "name": "python",
   "nbconvert_exporter": "python",
   "pygments_lexer": "ipython3",
   "version": "3.7.3"
  }
 },
 "nbformat": 4,
 "nbformat_minor": 2
}
