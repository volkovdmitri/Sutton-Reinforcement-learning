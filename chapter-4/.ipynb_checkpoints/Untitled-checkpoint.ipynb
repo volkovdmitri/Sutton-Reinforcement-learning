{
 "cells": [
  {
   "cell_type": "code",
   "execution_count": 2,
   "metadata": {},
   "outputs": [],
   "source": [
    "import numpy as np\n",
    "import matplotlib.pyplot as plt\n",
    "%matplotlib inline"
   ]
  },
  {
   "cell_type": "code",
   "execution_count": 22,
   "metadata": {},
   "outputs": [],
   "source": [
    "def game(capital):\n",
    "    \n",
    "    is_end = False\n",
    "    bankrupt = False\n",
    "    state = capital\n",
    "    state_path = []\n",
    "    bet = 1\n",
    "    bet_path = []\n",
    "    e_prev = 1\n",
    "    \n",
    "    while is_end == False:\n",
    "        state_path.append(state)\n",
    "        e = np.random.random()\n",
    "        \n",
    "        if e_prev < 0.5:\n",
    "            bet = 2*bet\n",
    "        else:\n",
    "            bet = 1\n",
    "        bet_path.append(bet)\n",
    "        \n",
    "        if e >= 0.5:\n",
    "            state += bet\n",
    "        else:\n",
    "            state -= bet\n",
    "\n",
    "        if state <= 0:\n",
    "            is_end = True\n",
    "            bankrupt = True\n",
    "        elif state >= 100:\n",
    "            is_end = True\n",
    "        \n",
    "        e_prev = e\n",
    "        \n",
    "    return state_path, bet_path, bankrupt"
   ]
  },
  {
   "cell_type": "code",
   "execution_count": 39,
   "metadata": {},
   "outputs": [],
   "source": [
    "p_head = 0.4\n",
    "e = 1e-10\n",
    "states = range(1, 100)\n",
    "v = np.zeros(99)\n",
    "policy = np.zeros(99)\n",
    "converged = False\n",
    "\n",
    "# Value iteration\n",
    "while not converged:\n",
    "    delta = 0\n",
    "    for state in states:\n",
    "        actions = range(1, state+1)\n",
    "        q_list = np.zeros(len(actions))\n",
    "        for ind, bet in enumerate(actions):\n",
    "            if state+bet >= 100:\n",
    "                if state == bet:\n",
    "                    q_list[ind] = p_head*1 + (1-p_head)*(-1)\n",
    "                else:\n",
    "                    q_list[ind] = (1-p_head)*v[state-bet-1] + p_head*1\n",
    "            elif state == bet:\n",
    "                q_list[ind] = p_head*v[state+bet-1] + (1-p_head)*(-1)\n",
    "            else:\n",
    "                q_list[ind] = (1-p_head)*v[state-bet-1] + p_head*v[state+bet-1]\n",
    "        delta = max(delta, abs(v[state-1] - np.max(q_list)))\n",
    "        v[state-1] = np.max(q_list)\n",
    "        policy[state-1] = actions[np.argmax(np.round(q_list, 5))]\n",
    "    if delta < e:\n",
    "        converged = True"
   ]
  },
  {
   "cell_type": "code",
   "execution_count": 40,
   "metadata": {},
   "outputs": [
    {
     "data": {
      "text/plain": [
       "array([ 1.,  2.,  3.,  4.,  5.,  6.,  7.,  8.,  9., 10., 11., 12., 12.,\n",
       "       11., 10.,  9.,  8.,  7.,  6.,  5.,  4.,  3.,  2.,  1., 25.,  1.,\n",
       "        2.,  3.,  4.,  5.,  6.,  7.,  8.,  9., 10., 11., 12., 12., 11.,\n",
       "       10.,  9.,  8.,  7.,  6.,  5.,  4.,  3.,  2.,  1., 50.,  1.,  2.,\n",
       "        3.,  4.,  5.,  6.,  7.,  8.,  9., 10., 11., 12., 12., 11., 10.,\n",
       "        9.,  8.,  7.,  6.,  5.,  4.,  3.,  2.,  1., 25.,  1.,  2.,  3.,\n",
       "        4.,  5.,  6.,  7.,  8.,  9., 10., 11., 12., 12., 11., 10.,  9.,\n",
       "        8.,  7.,  6.,  5.,  4.,  3.,  2.,  1.])"
      ]
     },
     "execution_count": 40,
     "metadata": {},
     "output_type": "execute_result"
    }
   ],
   "source": [
    "policy"
   ]
  },
  {
   "cell_type": "code",
   "execution_count": 23,
   "metadata": {},
   "outputs": [],
   "source": [
    "def game2(capital, policy):\n",
    "    \n",
    "    is_end = False\n",
    "    bankrupt = False\n",
    "    state = capital\n",
    "    state_path = []\n",
    "    bet_path = []\n",
    "    \n",
    "    while is_end == False:\n",
    "        bet = policy[capital-1]\n",
    "        state_path.append(state)\n",
    "        e = np.random.random()        \n",
    "        if e >= 0.5:\n",
    "            state += bet\n",
    "        else:\n",
    "            state -= bet\n",
    "\n",
    "        if state <= 0:\n",
    "            is_end = True\n",
    "            bankrupt = True\n",
    "        elif state >= 100:\n",
    "            is_end = True\n",
    "        \n",
    "        \n",
    "    return state_path, bet_path, bankrupt"
   ]
  },
  {
   "cell_type": "code",
   "execution_count": 29,
   "metadata": {},
   "outputs": [],
   "source": [
    "def game3(capital):\n",
    "    \n",
    "    is_end = False\n",
    "    bankrupt = False\n",
    "    state = capital\n",
    "    state_path = []\n",
    "    bet_path = []\n",
    "    bet = 1\n",
    "    \n",
    "    while is_end == False:\n",
    "        state_path.append(state)\n",
    "        e = np.random.random()        \n",
    "        if e >= 0.5:\n",
    "            state += bet\n",
    "        else:\n",
    "            state -= bet\n",
    "\n",
    "        if state <= 0:\n",
    "            is_end = True\n",
    "            bankrupt = True\n",
    "        elif state >= 100:\n",
    "            is_end = True\n",
    "        \n",
    "        \n",
    "    return state_path, bet_path, bankrupt"
   ]
  },
  {
   "cell_type": "code",
   "execution_count": 24,
   "metadata": {},
   "outputs": [],
   "source": [
    "x = []\n",
    "\n",
    "for c in range(1, 100):\n",
    "    b = []\n",
    "    for i in range(10000):\n",
    "        state_path, bet_path, bankrupt = game(c)\n",
    "        b.append(bankrupt)\n",
    "    p = sum(b)/10000\n",
    "    x.append(p)"
   ]
  },
  {
   "cell_type": "code",
   "execution_count": 31,
   "metadata": {},
   "outputs": [],
   "source": [
    "y = []\n",
    "\n",
    "for c in range(1, 100):\n",
    "    b = []\n",
    "    for i in range(10000):\n",
    "        state_path, bet_path, bankrupt = game2(c, policy)\n",
    "        b.append(bankrupt)\n",
    "    p = sum(b)/10000\n",
    "    y.append(p)"
   ]
  },
  {
   "cell_type": "code",
   "execution_count": 35,
   "metadata": {},
   "outputs": [
    {
     "name": "stdout",
     "output_type": "stream",
     "text": [
      "CPU times: user 5min 34s, sys: 453 ms, total: 5min 35s\n",
      "Wall time: 5min 35s\n"
     ]
    }
   ],
   "source": [
    "%%time\n",
    "z = []\n",
    "\n",
    "for c in range(1, 100):\n",
    "    b = []\n",
    "    for i in range(5000):\n",
    "        state_path, bet_path, bankrupt = game3(c)\n",
    "        b.append(bankrupt)\n",
    "    p = sum(b)/5000\n",
    "    z.append(p)"
   ]
  },
  {
   "cell_type": "code",
   "execution_count": 36,
   "metadata": {},
   "outputs": [
    {
     "data": {
      "image/png": "[encoded data removed]",
      "text/plain": [
       "<Figure size 864x576 with 1 Axes>"
      ]
     },
     "metadata": {
      "needs_background": "light"
     },
     "output_type": "display_data"
    }
   ],
   "source": [
    "plt.figure(figsize=(12, 8))\n",
    "plt.plot(x, label='doubling')\n",
    "plt.plot(y, label='optimal')\n",
    "plt.plot(z, label='1rub fix')\n",
    "\n",
    "plt.xlabel('Initial capital')\n",
    "plt.ylabel('% of bankruptcy')\n",
    "plt.legend()\n",
    "plt.show()"
   ]
  },
  {
   "cell_type": "code",
   "execution_count": null,
   "metadata": {},
   "outputs": [],
   "source": []
  }
 ],
 "metadata": {
  "kernelspec": {
   "display_name": "Python 3",
   "language": "python",
   "name": "python3"
  },
  "language_info": {
   "codemirror_mode": {
    "name": "ipython",
    "version": 3
   },
   "file_extension": ".py",
   "mimetype": "text/x-python",
   "name": "python",
   "nbconvert_exporter": "python",
   "pygments_lexer": "ipython3",
   "version": "3.7.3"
  }
 },
 "nbformat": 4,
 "nbformat_minor": 2
}
